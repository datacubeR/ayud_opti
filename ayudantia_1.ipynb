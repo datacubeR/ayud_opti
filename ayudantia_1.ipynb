{
  "cells": [
    {
      "cell_type": "markdown",
      "metadata": {
        "jukit_cell_id": "ajSBlX7C2M"
      },
      "source": [
        "# Ayudantía Número 1"
      ]
    },
    {
      "cell_type": "markdown",
      "metadata": {
        "jukit_cell_id": "eLEO3BwcDb"
      },
      "source": [
        "# Introducción a Matrices "
      ]
    },
    {
      "cell_type": "code",
      "execution_count": 2,
      "metadata": {
        "jukit_cell_id": "2rc92gjfU3"
      },
      "outputs": [],
      "source": [
        "import numpy as np\n",
        "\n",
        "a = np.array([1, 2, 3, 4, 5, 6])\n",
        "b = np.array([7, 8, 9, 10, 11, 12])"
      ]
    },
    {
      "cell_type": "markdown",
      "metadata": {},
      "source": [
        "# Definir Vectores y Matrices"
      ]
    },
    {
      "cell_type": "code",
      "execution_count": 3,
      "metadata": {
        "jukit_cell_id": "GF7c30ZM4L"
      },
      "outputs": [
        {
          "name": "stdout",
          "output_type": "stream",
          "text": [
            "(6,)\n",
            "(6,)\n",
            "(3, 4)\n",
            "(3, 3)\n",
            "1\n",
            "2\n"
          ]
        }
      ],
      "source": [
        "## Matrices: Mencionar también np.empty, np.rand, y las otras matrices especiales. \n",
        "\n",
        "A = np.array(\n",
        "    [\n",
        "        [1, 3, 0, 6],\n",
        "        [2, 4, 1, 5],\n",
        "        [1, 4, -2, 9],\n",
        "    ]\n",
        ")\n",
        "\n",
        "B = np.array(\n",
        "    [\n",
        "        [1, 3, -1],\n",
        "        [2, -1, 1],\n",
        "        [1, -3, -2],\n",
        "    ]\n",
        ")\n",
        "\n",
        "\n",
        "## Imprimir la forma\n",
        "\n",
        "print(a.shape)\n",
        "print(b.shape)\n",
        "print(A.shape)\n",
        "print(B.shape)\n",
        "\n",
        "print(a.ndim)\n",
        "print(A.ndim)"
      ]
    },
    {
      "cell_type": "markdown",
      "metadata": {},
      "source": [
        "# Indexación"
      ]
    },
    {
      "cell_type": "code",
      "execution_count": 4,
      "metadata": {
        "jukit_cell_id": "zGTbHkouEK"
      },
      "outputs": [
        {
          "name": "stdout",
          "output_type": "stream",
          "text": [
            "1\n",
            "--------\n",
            "9\n",
            "--------\n",
            "[3 4 4]\n",
            "--------\n",
            "[ 1 -3 -2]\n",
            "--------\n",
            "5\n",
            "--------\n"
          ]
        }
      ],
      "source": [
        "## Indexing\n",
        "\n",
        "print(a[0])\n",
        "print(\"--------\")\n",
        "print(b[2])\n",
        "print(\"--------\")\n",
        "print(A[:, 1])\n",
        "print(\"--------\")\n",
        "print(B[2, :])\n",
        "print(\"--------\")\n",
        "print(A[1, 3])\n",
        "print(\"--------\")"
      ]
    },
    {
      "cell_type": "code",
      "execution_count": 5,
      "metadata": {
        "jukit_cell_id": "EQBdzO3YGN"
      },
      "outputs": [
        {
          "name": "stdout",
          "output_type": "stream",
          "text": [
            "[[1. 0. 0. 0. 0.]\n",
            " [0. 1. 0. 0. 0.]\n",
            " [0. 0. 1. 0. 0.]\n",
            " [0. 0. 0. 1. 0.]\n",
            " [0. 0. 0. 0. 1.]]\n",
            "-------\n",
            "[[1. 1. 1.]\n",
            " [1. 1. 1.]\n",
            " [1. 1. 1.]\n",
            " [1. 1. 1.]\n",
            " [1. 1. 1.]]\n",
            "-------\n",
            "[[0. 0. 0.]\n",
            " [0. 0. 0.]\n",
            " [0. 0. 0.]\n",
            " [0. 0. 0.]\n",
            " [0. 0. 0.]]\n",
            "-------\n"
          ]
        }
      ],
      "source": [
        "## Matrices Especiales: Improvisar ejercicios cambiando elementos utilizando Indexación.\n",
        "\n",
        "print(np.eye(5))\n",
        "print(\"-------\")\n",
        "print(np.ones((5, 3)))\n",
        "print(\"-------\")\n",
        "print(np.zeros((5, 3)))\n",
        "print(\"-------\")"
      ]
    },
    {
      "cell_type": "markdown",
      "metadata": {},
      "source": [
        "# Reshaping"
      ]
    },
    {
      "cell_type": "code",
      "execution_count": 6,
      "metadata": {
        "jukit_cell_id": "dC20XWs2Oe"
      },
      "outputs": [
        {
          "name": "stdout",
          "output_type": "stream",
          "text": [
            "(3, 2)\n",
            "(3, 2)\n",
            "--------\n",
            "[[ 1  2  1]\n",
            " [ 3  4  4]\n",
            " [ 0  1 -2]\n",
            " [ 6  5  9]]\n",
            "--------\n",
            "[[ 1  2  1]\n",
            " [ 3 -1 -3]\n",
            " [-1  1 -2]]\n"
          ]
        }
      ],
      "source": [
        "## Reshaping\n",
        "c = a.reshape(3, 2)\n",
        "d = b.reshape(3, 2)\n",
        "\n",
        "print(c.shape)\n",
        "print(d.shape)\n",
        "print(\"--------\")\n",
        "print(A.T)\n",
        "print(\"--------\")\n",
        "print(B.T)"
      ]
    },
    {
      "cell_type": "code",
      "execution_count": 7,
      "metadata": {
        "jukit_cell_id": "8rnFNiUpFl"
      },
      "outputs": [
        {
          "name": "stdout",
          "output_type": "stream",
          "text": [
            "[[1]\n",
            " [2]\n",
            " [3]\n",
            " [4]\n",
            " [5]\n",
            " [6]]\n",
            "[[ 7]\n",
            " [ 8]\n",
            " [ 9]\n",
            " [10]\n",
            " [11]\n",
            " [12]]\n"
          ]
        }
      ],
      "source": [
        "## Ojo con ciertas formas\n",
        "a_ = a.reshape(6, -1)\n",
        "b_ = b.reshape(6, -1)\n",
        "print(a_)\n",
        "print(b_)"
      ]
    },
    {
      "cell_type": "markdown",
      "metadata": {},
      "source": [
        "# Propiedades de Suma y Multiplicación por Escalar"
      ]
    },
    {
      "cell_type": "code",
      "execution_count": 8,
      "metadata": {
        "jukit_cell_id": "39WPSjEx4d"
      },
      "outputs": [
        {
          "name": "stdout",
          "output_type": "stream",
          "text": [
            "2\n",
            "2\n"
          ]
        }
      ],
      "source": [
        "# Posibles problemas con la Suma...\n",
        "print(a_.ndim)\n",
        "print(b_.ndim)"
      ]
    },
    {
      "cell_type": "code",
      "execution_count": 9,
      "metadata": {
        "jukit_cell_id": "b8Ac40JxdU"
      },
      "outputs": [
        {
          "data": {
            "text/plain": [
              "array([ 8, 10, 12, 14, 16, 18])"
            ]
          },
          "execution_count": 9,
          "metadata": {},
          "output_type": "execute_result"
        }
      ],
      "source": [
        "a + b"
      ]
    },
    {
      "cell_type": "code",
      "execution_count": 10,
      "metadata": {
        "jukit_cell_id": "ipVX9wNIAA"
      },
      "outputs": [
        {
          "data": {
            "text/plain": [
              "array([[ 8, 10],\n",
              "       [12, 14],\n",
              "       [16, 18]])"
            ]
          },
          "execution_count": 10,
          "metadata": {},
          "output_type": "execute_result"
        }
      ],
      "source": [
        "c + d"
      ]
    },
    {
      "cell_type": "markdown",
      "metadata": {},
      "source": [
        "# Ejercicio Bonus: Implementar el Producto Punto, utilizando Numpy"
      ]
    },
    {
      "cell_type": "code",
      "execution_count": 11,
      "metadata": {
        "jukit_cell_id": "uTNgEHI8w9"
      },
      "outputs": [
        {
          "data": {
            "text/plain": [
              "217"
            ]
          },
          "execution_count": 11,
          "metadata": {},
          "output_type": "execute_result"
        }
      ],
      "source": [
        "# Producto Punto sin Optimizar: Validar si las formas son incorrectas...\n",
        "result = []\n",
        "for i in range(len(a)):\n",
        "    result.append(a[i] * b[i])\n",
        "sum(result)\n",
        "\n",
        "# Producto Punto Optimizado\n",
        "sum([i * j for i, j in zip(a, b)])"
      ]
    },
    {
      "cell_type": "code",
      "execution_count": 12,
      "metadata": {},
      "outputs": [
        {
          "data": {
            "text/plain": [
              "217"
            ]
          },
          "execution_count": 12,
          "metadata": {},
          "output_type": "execute_result"
        }
      ],
      "source": [
        "a.dot(b)"
      ]
    },
    {
      "cell_type": "code",
      "execution_count": 13,
      "metadata": {
        "jukit_cell_id": "82OldZ2gSD"
      },
      "outputs": [
        {
          "name": "stdout",
          "output_type": "stream",
          "text": [
            "[[  6  11   5  12]\n",
            " [  1   6  -3  16]\n",
            " [ -7 -17   1 -27]]\n",
            "--------\n",
            "[[  6  11   5  12]\n",
            " [  1   6  -3  16]\n",
            " [ -7 -17   1 -27]]\n"
          ]
        }
      ],
      "source": [
        "print(B.dot(A))\n",
        "print(\"--------\")\n",
        "print(B @ A)"
      ]
    },
    {
      "cell_type": "markdown",
      "metadata": {},
      "source": [
        "# Problemas con la Suma"
      ]
    },
    {
      "cell_type": "code",
      "execution_count": 14,
      "metadata": {},
      "outputs": [
        {
          "data": {
            "text/plain": [
              "array([[ 8,  9, 10, 11, 12, 13],\n",
              "       [ 9, 10, 11, 12, 13, 14],\n",
              "       [10, 11, 12, 13, 14, 15],\n",
              "       [11, 12, 13, 14, 15, 16],\n",
              "       [12, 13, 14, 15, 16, 17],\n",
              "       [13, 14, 15, 16, 17, 18]])"
            ]
          },
          "execution_count": 14,
          "metadata": {},
          "output_type": "execute_result"
        }
      ],
      "source": [
        "a_ + b  # Esto es raro"
      ]
    },
    {
      "cell_type": "code",
      "execution_count": 15,
      "metadata": {
        "jukit_cell_id": "MlP0kNP07B"
      },
      "outputs": [
        {
          "name": "stdout",
          "output_type": "stream",
          "text": [
            "(4, 3)\n",
            "(3,)\n"
          ]
        },
        {
          "data": {
            "text/plain": [
              "array([[ 1,  2,  3],\n",
              "       [11, 12, 13],\n",
              "       [21, 22, 23],\n",
              "       [31, 32, 33]])"
            ]
          },
          "execution_count": 15,
          "metadata": {},
          "output_type": "execute_result"
        }
      ],
      "source": [
        "# Broadcasting...\n",
        "# La última dimensión es igual a 1 o Son iguales o no existen.\n",
        "# Sólo no se puede hacer broadcast si dos dimensiones son distintas.\n",
        "\n",
        "a = np.array(\n",
        "    [\n",
        "        [\n",
        "            0,\n",
        "            0,\n",
        "            0,\n",
        "        ],\n",
        "        [\n",
        "            10,\n",
        "            10,\n",
        "            10,\n",
        "        ],\n",
        "        [\n",
        "            20,\n",
        "            20,\n",
        "            20,\n",
        "        ],\n",
        "        [\n",
        "            30,\n",
        "            30,\n",
        "            30,\n",
        "        ],\n",
        "    ]\n",
        ")\n",
        "b = np.array([1, 2, 3])\n",
        "\n",
        "a + b\n",
        "\n",
        "\n",
        "print(a.shape)\n",
        "print(b.shape)  # (0,3)\n",
        "\n",
        "b_ = np.repeat(b.reshape(-1, 3), 4, axis=0)\n",
        "## Axis 0 means rows, Axis 1 means columns\n",
        "a + b_"
      ]
    },
    {
      "cell_type": "markdown",
      "metadata": {
        "jukit_cell_id": "2MTLu9LvG8"
      },
      "source": [
        "# Ejercicio: Implementar el Producto Externo tal que:\n",
        "\n",
        "$$\\bar{x}\\otimes\\bar{y}=\\begin{bmatrix}\n",
        "x_1 y_1 & x_1 y_2 & \\cdots & x_1 y_m\\\\\n",
        "x_2 y_1 & x_2 y_2 & \\cdots & x_2 y_m\\\\\n",
        "\\vdots & \\vdots & \\vdots & \\vdots\\\\\n",
        "x_n y_1 & x_n y_2 & \\cdots & x_n y_m\\\\\n",
        "\\end{bmatrix}$$"
      ]
    },
    {
      "cell_type": "code",
      "execution_count": 16,
      "metadata": {
        "jukit_cell_id": "YHChNmUzKF"
      },
      "outputs": [
        {
          "data": {
            "text/plain": [
              "array([[1., 2., 3.],\n",
              "       [2., 4., 6.],\n",
              "       [3., 6., 9.]])"
            ]
          },
          "execution_count": 16,
          "metadata": {},
          "output_type": "execute_result"
        }
      ],
      "source": [
        "x = np.array([1, 2, 3])\n",
        "y = np.array([1, 2, 3])\n",
        "\n",
        "size_x = len(x)\n",
        "size_y = len(y)\n",
        "resultado = np.empty((size_x, size_y))\n",
        "for idx_x, item_x in enumerate(x):\n",
        "    for idx_y, item_y in enumerate(y):\n",
        "        resultado[idx_x, idx_y] = item_x * item_y\n",
        "\n",
        "resultado"
      ]
    },
    {
      "cell_type": "code",
      "execution_count": 17,
      "metadata": {
        "jukit_cell_id": "p2pK0bXVp2"
      },
      "outputs": [
        {
          "data": {
            "text/plain": [
              "array([[1., 2., 3.],\n",
              "       [2., 4., 6.],\n",
              "       [3., 6., 9.]])"
            ]
          },
          "execution_count": 17,
          "metadata": {},
          "output_type": "execute_result"
        }
      ],
      "source": [
        "x = np.array([1, 2, 3])\n",
        "y = np.array([1, 2, 3])\n",
        "\n",
        "size_x = len(x)\n",
        "size_y = len(y)\n",
        "\n",
        "resultado = np.empty((size_x, size_y))\n",
        "for idx_y, item_y in enumerate(y):\n",
        "    resultado[:, idx_y] = item_y * x\n",
        "\n",
        "resultado"
      ]
    },
    {
      "cell_type": "code",
      "execution_count": 18,
      "metadata": {
        "jukit_cell_id": "0WcjHl2qS7"
      },
      "outputs": [
        {
          "data": {
            "text/plain": [
              "array([[1, 2, 3]])"
            ]
          },
          "execution_count": 18,
          "metadata": {},
          "output_type": "execute_result"
        }
      ],
      "source": [
        "# Explicar el reshape -1\n",
        "x.reshape(3, 1)\n",
        "y.reshape(1, 3)"
      ]
    },
    {
      "cell_type": "code",
      "execution_count": 19,
      "metadata": {
        "jukit_cell_id": "mjUfOqMlFJ"
      },
      "outputs": [
        {
          "data": {
            "text/plain": [
              "array([[1, 2, 3],\n",
              "       [2, 4, 6],\n",
              "       [3, 6, 9]])"
            ]
          },
          "execution_count": 19,
          "metadata": {},
          "output_type": "execute_result"
        }
      ],
      "source": [
        "x.reshape(3, 1).dot(y.reshape(1, 3))"
      ]
    },
    {
      "cell_type": "code",
      "execution_count": 20,
      "metadata": {
        "jukit_cell_id": "dI5kmD2YFW"
      },
      "outputs": [
        {
          "data": {
            "text/plain": [
              "array([[1, 2, 3],\n",
              "       [2, 4, 6],\n",
              "       [3, 6, 9]])"
            ]
          },
          "execution_count": 20,
          "metadata": {},
          "output_type": "execute_result"
        }
      ],
      "source": [
        "np.outer(x, y)"
      ]
    },
    {
      "cell_type": "code",
      "execution_count": 33,
      "metadata": {},
      "outputs": [
        {
          "data": {
            "text/plain": [
              "array([[0.63122346, 0.19493571, 0.60998176, 0.38897759, 0.13498859],\n",
              "       [0.47399184, 0.14637912, 0.45804123, 0.29208706, 0.10136424],\n",
              "       [0.07609081, 0.02349852, 0.07353023, 0.04688929, 0.01627219],\n",
              "       [0.17132824, 0.05290993, 0.16556276, 0.10557726, 0.03663894],\n",
              "       [0.51388399, 0.15869869, 0.49659095, 0.31666972, 0.10989527],\n",
              "       [0.65958139, 0.20369326, 0.6373854 , 0.40645254, 0.141053  ],\n",
              "       [0.73273677, 0.22628525, 0.70807897, 0.45153294, 0.15669744],\n",
              "       [0.54953002, 0.16970697, 0.53103743, 0.3386358 , 0.11751826]])"
            ]
          },
          "execution_count": 33,
          "metadata": {},
          "output_type": "execute_result"
        }
      ],
      "source": [
        "x = np.random.rand(8)\n",
        "y = np.random.rand(5)\n",
        "np.outer(x,y)"
      ]
    },
    {
      "cell_type": "markdown",
      "metadata": {},
      "source": [
        "## Otras operaciones"
      ]
    },
    {
      "cell_type": "code",
      "execution_count": 21,
      "metadata": {
        "jukit_cell_id": "ZrW8VY6Gjd"
      },
      "outputs": [
        {
          "data": {
            "text/plain": [
              "array([[ 1,  2,  1],\n",
              "       [ 3,  4,  4],\n",
              "       [ 0,  1, -2],\n",
              "       [ 6,  5,  9]])"
            ]
          },
          "execution_count": 21,
          "metadata": {},
          "output_type": "execute_result"
        }
      ],
      "source": [
        "# Transpuesta\n",
        "A.T"
      ]
    },
    {
      "cell_type": "code",
      "execution_count": 22,
      "metadata": {
        "jukit_cell_id": "ymOdx9NL6z"
      },
      "outputs": [
        {
          "data": {
            "text/plain": [
              "3"
            ]
          },
          "execution_count": 22,
          "metadata": {},
          "output_type": "execute_result"
        }
      ],
      "source": [
        "# Traza\n",
        "np.trace(A)"
      ]
    },
    {
      "cell_type": "code",
      "execution_count": 23,
      "metadata": {
        "jukit_cell_id": "nVl8sbhzaO"
      },
      "outputs": [
        {
          "name": "stdout",
          "output_type": "stream",
          "text": [
            "25.000000000000007\n"
          ]
        }
      ],
      "source": [
        "# Determinante\n",
        "print(np.linalg.det(B))"
      ]
    },
    {
      "cell_type": "code",
      "execution_count": 24,
      "metadata": {
        "jukit_cell_id": "sVdTJdgLPr"
      },
      "outputs": [
        {
          "data": {
            "text/plain": [
              "0.19999999999999996"
            ]
          },
          "execution_count": 24,
          "metadata": {},
          "output_type": "execute_result"
        }
      ],
      "source": [
        "# Other example of floating point errors\n",
        "1.2 - 1.0"
      ]
    },
    {
      "cell_type": "code",
      "execution_count": 25,
      "metadata": {
        "jukit_cell_id": "DD5N5atJKY"
      },
      "outputs": [
        {
          "name": "stdout",
          "output_type": "stream",
          "text": [
            "[1. 1.]\n",
            "--------\n",
            "[[1. 0.]\n",
            " [0. 1.]]\n"
          ]
        }
      ],
      "source": [
        "# Valores y Vectores Propios\n",
        "a = np.array([[1 + 1e-9, 0], [0, 1 - 1e-9]])\n",
        "eig_vals, eig_vecs = np.linalg.eig(a)\n",
        "print(eig_vals)\n",
        "print(\"--------\")\n",
        "print(eig_vecs)  # columns are the ith eigen vector for the ith eigen value..."
      ]
    },
    {
      "cell_type": "code",
      "execution_count": 26,
      "metadata": {
        "jukit_cell_id": "zsSY7HFQOy"
      },
      "outputs": [
        {
          "data": {
            "text/plain": [
              "array([[ 0.2 ,  0.36,  0.08],\n",
              "       [ 0.2 , -0.04, -0.12],\n",
              "       [-0.2 ,  0.24, -0.28]])"
            ]
          },
          "execution_count": 26,
          "metadata": {},
          "output_type": "execute_result"
        }
      ],
      "source": [
        "np.linalg.inv(B)"
      ]
    },
    {
      "cell_type": "code",
      "execution_count": 27,
      "metadata": {
        "jukit_cell_id": "6kiiGvplzI"
      },
      "outputs": [
        {
          "data": {
            "text/plain": [
              "array([[ 0.2 ,  0.36,  0.08],\n",
              "       [ 0.2 , -0.04, -0.12],\n",
              "       [-0.2 ,  0.24, -0.28]])"
            ]
          },
          "execution_count": 27,
          "metadata": {},
          "output_type": "execute_result"
        }
      ],
      "source": [
        "np.linalg.pinv(B)"
      ]
    },
    {
      "cell_type": "code",
      "execution_count": 28,
      "metadata": {
        "jukit_cell_id": "ALyFEwCPik"
      },
      "outputs": [
        {
          "data": {
            "text/plain": [
              "5"
            ]
          },
          "execution_count": 28,
          "metadata": {},
          "output_type": "execute_result"
        }
      ],
      "source": [
        "# Rango de una Matriz\n",
        "\n",
        "np.linalg.matrix_rank(np.eye(5))"
      ]
    },
    {
      "cell_type": "code",
      "execution_count": 29,
      "metadata": {
        "jukit_cell_id": "bSrqnukJz7"
      },
      "outputs": [
        {
          "data": {
            "text/plain": [
              "1"
            ]
          },
          "execution_count": 29,
          "metadata": {},
          "output_type": "execute_result"
        }
      ],
      "source": [
        "np.linalg.matrix_rank(np.ones(5))"
      ]
    }
  ],
  "metadata": {
    "anaconda-cloud": {},
    "kernelspec": {
      "display_name": "python",
      "language": "python",
      "name": "python3"
    },
    "language_info": {
      "codemirror_mode": {
        "name": "ipython",
        "version": 3
      },
      "file_extension": ".py",
      "mimetype": "text/x-python",
      "name": "python",
      "nbconvert_exporter": "python",
      "pygments_lexer": "ipython3",
      "version": "3.9.16"
    }
  },
  "nbformat": 4,
  "nbformat_minor": 4
}
