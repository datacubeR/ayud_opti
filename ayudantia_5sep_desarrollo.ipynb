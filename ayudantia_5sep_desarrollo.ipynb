{
 "cells": [
  {
   "cell_type": "markdown",
   "metadata": {},
   "source": [
    "# Dimensión del Espacio Columna de A? m\n",
    "$$AB = A_{,1} \\otimes B_{1,} + A_{,2} \\otimes B_{2,} + ... + A_{,m} \\otimes B_{m,} $$"
   ]
  },
  {
   "cell_type": "code",
   "execution_count": 4,
   "metadata": {},
   "outputs": [
    {
     "data": {
      "text/plain": [
       "array([[1.19086771, 0.43228703, 0.92025228],\n",
       "       [0.58238032, 0.09291206, 0.69087197],\n",
       "       [0.87241658, 0.36800327, 0.52926729]])"
      ]
     },
     "execution_count": 4,
     "metadata": {},
     "output_type": "execute_result"
    }
   ],
   "source": [
    "import numpy as np\n",
    "np.random.seed(42)\n",
    "A = np.random.rand(3,3)       \n",
    "B = np.random.rand(3,3)\n",
    "\n",
    "A @ B"
   ]
  },
  {
   "cell_type": "code",
   "execution_count": 5,
   "metadata": {},
   "outputs": [
    {
     "data": {
      "text/plain": [
       "array([[1.19086771, 0.43228703, 0.92025228],\n",
       "       [0.58238032, 0.09291206, 0.69087197],\n",
       "       [0.87241658, 0.36800327, 0.52926729]])"
      ]
     },
     "execution_count": 5,
     "metadata": {},
     "output_type": "execute_result"
    }
   ],
   "source": [
    "result = np.zeros((3,3))\n",
    "for i in range(A.shape[1]):\n",
    "    result += np.outer(A[:,i],B[i,:])\n",
    "    \n",
    "result\n",
    "    "
   ]
  },
  {
   "cell_type": "code",
   "execution_count": 9,
   "metadata": {},
   "outputs": [
    {
     "data": {
      "text/plain": [
       "array([[  2.,   4.,  -2.],\n",
       "       [  0.,   1.,   5.],\n",
       "       [  0.,   0., -16.]])"
      ]
     },
     "execution_count": 9,
     "metadata": {},
     "output_type": "execute_result"
    }
   ],
   "source": [
    "A = np.array([\n",
    "    [2,4,-2],\n",
    "    [-2,-3,7],\n",
    "    [3,9,-4]\n",
    "])\n",
    "\n",
    "# fila 2 = fila 1 + fila 2\n",
    "# fila 3 = fila 3 - 3/2 fila 1\n",
    "\n",
    "L1 = np.array([\n",
    "    [1,0,0],\n",
    "    [1,1,0], # voy a a sumar la fila 1 y la fila 2 y la guardo en la fila 2\n",
    "    [-3/2,0,1]\n",
    "])\n",
    "\n",
    "L2 = np.array([\n",
    "    [1,0,0],\n",
    "    [0,1,0],\n",
    "    [0,-3,1]\n",
    "])\n",
    "\n",
    "U = L2 @ L1 @ A # manera matricial de hacer Gauss... \n",
    "U\n",
    "\n"
   ]
  },
  {
   "cell_type": "markdown",
   "metadata": {},
   "source": [
    "$$L2 \\cdot L1 \\cdot A = U$$\n",
    "$$ A = (L2 \\cdot L1)^{-1} U$$"
   ]
  },
  {
   "cell_type": "code",
   "execution_count": 13,
   "metadata": {},
   "outputs": [
    {
     "data": {
      "text/plain": [
       "array([[ 2.,  4., -2.],\n",
       "       [-2., -3.,  7.],\n",
       "       [ 3.,  9., -4.]])"
      ]
     },
     "execution_count": 13,
     "metadata": {},
     "output_type": "execute_result"
    }
   ],
   "source": [
    "## La Multiplicación de dos Triangulares inferiores son Triangular Inferior. \n",
    "## La inversa de una Triangular Inferior también es Triangular Inferior\n",
    "\n",
    "L = L2 @ L1\n",
    "np.linalg.inv(L) @ U"
   ]
  }
 ],
 "metadata": {
  "kernelspec": {
   "display_name": "base",
   "language": "python",
   "name": "python3"
  },
  "language_info": {
   "codemirror_mode": {
    "name": "ipython",
    "version": 3
   },
   "file_extension": ".py",
   "mimetype": "text/x-python",
   "name": "python",
   "nbconvert_exporter": "python",
   "pygments_lexer": "ipython3",
   "version": "3.9.16"
  },
  "orig_nbformat": 4
 },
 "nbformat": 4,
 "nbformat_minor": 2
}
