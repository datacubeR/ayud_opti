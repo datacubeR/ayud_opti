{
 "cells": [
  {
   "cell_type": "code",
   "execution_count": 1,
   "metadata": {},
   "outputs": [
    {
     "data": {
      "text/html": [
       "<div>\n",
       "<style scoped>\n",
       "    .dataframe tbody tr th:only-of-type {\n",
       "        vertical-align: middle;\n",
       "    }\n",
       "\n",
       "    .dataframe tbody tr th {\n",
       "        vertical-align: top;\n",
       "    }\n",
       "\n",
       "    .dataframe thead th {\n",
       "        text-align: right;\n",
       "    }\n",
       "</style>\n",
       "<table border=\"1\" class=\"dataframe\">\n",
       "  <thead>\n",
       "    <tr style=\"text-align: right;\">\n",
       "      <th></th>\n",
       "      <th>curvatura</th>\n",
       "      <th>diametro</th>\n",
       "      <th>resultado</th>\n",
       "    </tr>\n",
       "  </thead>\n",
       "  <tbody>\n",
       "    <tr>\n",
       "      <th>0</th>\n",
       "      <td>2.95</td>\n",
       "      <td>6.63</td>\n",
       "      <td>Pasa</td>\n",
       "    </tr>\n",
       "    <tr>\n",
       "      <th>1</th>\n",
       "      <td>2.53</td>\n",
       "      <td>7.79</td>\n",
       "      <td>Pasa</td>\n",
       "    </tr>\n",
       "    <tr>\n",
       "      <th>2</th>\n",
       "      <td>3.57</td>\n",
       "      <td>5.65</td>\n",
       "      <td>Pasa</td>\n",
       "    </tr>\n",
       "    <tr>\n",
       "      <th>3</th>\n",
       "      <td>3.16</td>\n",
       "      <td>5.47</td>\n",
       "      <td>Pasa</td>\n",
       "    </tr>\n",
       "    <tr>\n",
       "      <th>4</th>\n",
       "      <td>2.58</td>\n",
       "      <td>4.46</td>\n",
       "      <td>No Pasa</td>\n",
       "    </tr>\n",
       "    <tr>\n",
       "      <th>5</th>\n",
       "      <td>2.16</td>\n",
       "      <td>6.22</td>\n",
       "      <td>No Pasa</td>\n",
       "    </tr>\n",
       "    <tr>\n",
       "      <th>6</th>\n",
       "      <td>3.27</td>\n",
       "      <td>3.52</td>\n",
       "      <td>No Pasa</td>\n",
       "    </tr>\n",
       "  </tbody>\n",
       "</table>\n",
       "</div>"
      ],
      "text/plain": [
       "   curvatura  diametro resultado\n",
       "0       2.95      6.63      Pasa\n",
       "1       2.53      7.79      Pasa\n",
       "2       3.57      5.65      Pasa\n",
       "3       3.16      5.47      Pasa\n",
       "4       2.58      4.46   No Pasa\n",
       "5       2.16      6.22   No Pasa\n",
       "6       3.27      3.52   No Pasa"
      ]
     },
     "execution_count": 1,
     "metadata": {},
     "output_type": "execute_result"
    }
   ],
   "source": [
    "from sklearn.discriminant_analysis import LinearDiscriminantAnalysis\n",
    "import pandas as pd\n",
    "import numpy as np\n",
    "\n",
    "df = pd.DataFrame(\n",
    "    dict(\n",
    "        curvatura=[2.95, 2.53, 3.57, 3.16, 2.58, 2.16, 3.27],\n",
    "        diametro=[6.63, 7.79, 5.65, 5.47, 4.46, 6.22, 3.52],\n",
    "        resultado=[\"Pasa\", \"Pasa\", \"Pasa\", \"Pasa\", \"No Pasa\", \"No Pasa\", \"No Pasa\"],\n",
    "    )\n",
    ")\n",
    "df"
   ]
  },
  {
   "cell_type": "code",
   "execution_count": 2,
   "metadata": {},
   "outputs": [
    {
     "data": {
      "text/plain": [
       "array(['No Pasa'], dtype='<U7')"
      ]
     },
     "execution_count": 2,
     "metadata": {},
     "output_type": "execute_result"
    }
   ],
   "source": [
    "lda = LinearDiscriminantAnalysis()\n",
    "lda.fit(df[[\"curvatura\", \"diametro\"]], df[\"resultado\"])\n",
    "X = pd.DataFrame(dict(curvatura=[2], diametro=[5]))\n",
    "lda.predict(X)"
   ]
  },
  {
   "cell_type": "code",
   "execution_count": 3,
   "metadata": {},
   "outputs": [
    {
     "data": {
      "text/plain": [
       "(array([3.0525, 6.385 ]), array([2.67      , 4.73333333]))"
      ]
     },
     "execution_count": 3,
     "metadata": {},
     "output_type": "execute_result"
    }
   ],
   "source": [
    "data_1 = df.query(\"resultado == 'Pasa'\")[[\"curvatura\", \"diametro\"]]\n",
    "data_2 = df.query(\"resultado == 'No Pasa'\")[[\"curvatura\", \"diametro\"]]\n",
    "mu_1 = data_1.mean().values\n",
    "mu_2 = data_2.mean().values\n",
    "mu_1, mu_2"
   ]
  },
  {
   "cell_type": "code",
   "execution_count": 4,
   "metadata": {},
   "outputs": [
    {
     "data": {
      "text/plain": [
       "(array([[ 0.187625  , -0.41265   ],\n",
       "        [-0.41265   ,  1.13716667]]),\n",
       " array([[ 0.3141    , -0.7308    ],\n",
       "        [-0.7308    ,  1.87853333]]))"
      ]
     },
     "execution_count": 4,
     "metadata": {},
     "output_type": "execute_result"
    }
   ],
   "source": [
    "s1 = data_1.cov().values\n",
    "s2 = data_2.cov().values\n",
    "s1, s2"
   ]
  },
  {
   "cell_type": "code",
   "execution_count": 5,
   "metadata": {},
   "outputs": [
    {
     "data": {
      "text/plain": [
       "(array([[ 0.238215  , -0.53991   ],\n",
       "        [-0.53991   ,  1.43371333]]),\n",
       " array([[28.65752288, 10.7918946 ],\n",
       "        [10.7918946 ,  4.76151798]]))"
      ]
     },
     "execution_count": 5,
     "metadata": {},
     "output_type": "execute_result"
    }
   ],
   "source": [
    "n1 = len(data_1)\n",
    "n2 = len(data_2)\n",
    "s = ((n1 - 1) * s1 + (n2 - 1) * s2) / (n1 + n2 - 2)\n",
    "inv_s = np.linalg.inv(s)\n",
    "s, inv_s"
   ]
  },
  {
   "cell_type": "code",
   "execution_count": 6,
   "metadata": {},
   "outputs": [
    {
     "data": {
      "text/plain": [
       "(array([28.78611508, 11.99234021]), array([[28.78611508, 11.99234021]]))"
      ]
     },
     "execution_count": 6,
     "metadata": {},
     "output_type": "execute_result"
    }
   ],
   "source": [
    "beta = (mu_1 - mu_2).dot(inv_s)\n",
    "beta, lda.coef_"
   ]
  },
  {
   "cell_type": "code",
   "execution_count": 15,
   "metadata": {},
   "outputs": [
    {
     "name": "stdout",
     "output_type": "stream",
     "text": [
      "-31.49775851330466\n",
      "No Pasa\n"
     ]
    }
   ],
   "source": [
    "mu_c = (mu_1 + mu_2) / 2\n",
    "x = X.values.reshape(-1)\n",
    "decision = beta.dot(x - mu_c)\n",
    "print(decision)\n",
    "if decision > 0:\n",
    "    print(\"Pasa\")\n",
    "else:\n",
    "    print(\"No Pasa\")"
   ]
  },
  {
   "cell_type": "code",
   "execution_count": 8,
   "metadata": {},
   "outputs": [
    {
     "data": {
      "text/plain": [
       "(array([[28.78611508, 11.99234021]]), array([-148.74400766]))"
      ]
     },
     "execution_count": 8,
     "metadata": {},
     "output_type": "execute_result"
    }
   ],
   "source": [
    "lda.coef_, lda.intercept_"
   ]
  },
  {
   "cell_type": "code",
   "execution_count": 20,
   "metadata": {},
   "outputs": [
    {
     "data": {
      "text/plain": [
       "(array([28.78611508, 11.99234021]), -149.03168972824614)"
      ]
     },
     "execution_count": 20,
     "metadata": {},
     "output_type": "execute_result"
    }
   ],
   "source": [
    "beta, -beta.dot(mu_c)"
   ]
  },
  {
   "cell_type": "code",
   "execution_count": null,
   "metadata": {},
   "outputs": [],
   "source": []
  }
 ],
 "metadata": {
  "kernelspec": {
   "display_name": "base",
   "language": "python",
   "name": "python3"
  },
  "language_info": {
   "codemirror_mode": {
    "name": "ipython",
    "version": 3
   },
   "file_extension": ".py",
   "mimetype": "text/x-python",
   "name": "python",
   "nbconvert_exporter": "python",
   "pygments_lexer": "ipython3",
   "version": "3.9.16"
  },
  "orig_nbformat": 4
 },
 "nbformat": 4,
 "nbformat_minor": 2
}
