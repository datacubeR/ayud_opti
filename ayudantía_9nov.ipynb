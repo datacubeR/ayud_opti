{
 "cells": [
  {
   "cell_type": "code",
   "execution_count": 1,
   "metadata": {},
   "outputs": [
    {
     "data": {
      "text/plain": [
       "(1.0, [array([-0.5,  0.5]), array([1., 2.]), array([1., 2.])])"
      ]
     },
     "execution_count": 1,
     "metadata": {},
     "output_type": "execute_result"
    }
   ],
   "source": [
    "import numpy as np\n",
    "\n",
    "\n",
    "def f(x, y):\n",
    "    return (x - 1) ** 2 + (y - 2) ** 2 + 1\n",
    "\n",
    "\n",
    "def grad_f(x, y):\n",
    "    return np.array([2 * (x - 1), 2 * (y - 2)])\n",
    "\n",
    "\n",
    "def inv_hessian():\n",
    "    return np.linalg.inv(np.array([[2, 0], [0, 2]]))\n",
    "\n",
    "\n",
    "def newton_raphson(x_0, num_iter):\n",
    "    x_t = [x_0]\n",
    "    for n in range(num_iter):\n",
    "        x = x_t[n][0]\n",
    "        y = x_t[n][1]\n",
    "        x_t.append(x_t[n] - inv_hessian().dot(grad_f(x, y)))\n",
    "\n",
    "    sol = x_t[-1]\n",
    "    return sol, x_t\n",
    "\n",
    "\n",
    "x_0 = np.array([-0.5, 0.5])\n",
    "sol, x_t = newton_raphson(x_0, num_iter=2)\n",
    "x, y = sol\n",
    "f(x, y), x_t"
   ]
  },
  {
   "cell_type": "code",
   "execution_count": 3,
   "metadata": {},
   "outputs": [],
   "source": [
    "import math\n",
    "\n",
    "\n",
    "def f(x, y):\n",
    "    return np.array([x**2 + y**2 - 5, x * math.exp(y) + math.exp(2 * x)])\n",
    "\n",
    "\n",
    "def jacobian(x, y):\n",
    "    return np.array([[2 * x, 2 * y], [math.exp(y), 0]])\n",
    "\n",
    "\n",
    "def newton_raphson_eq(x_0, num_iter=10):\n",
    "    x_t = [x_0]\n",
    "    for n in range(num_iter):\n",
    "        x = x_t[n][0]\n",
    "        y = x_t[n][1]\n",
    "        inv_jacob = np.linalg.inv(jacobian(x, y))\n",
    "        x_t.append(x_t[n] - inv_jacob.dot(f(x, y)))\n",
    "\n",
    "    sol = x_t[-1]\n",
    "    return sol, x_t\n",
    "\n",
    "\n",
    "x_0 = np.array([0.5, 0.5])\n",
    "sol, x_t = newton_raphson_eq(x_0)"
   ]
  },
  {
   "cell_type": "code",
   "execution_count": 4,
   "metadata": {},
   "outputs": [
    {
     "data": {
      "text/plain": [
       "array([-0.08951816,  2.23427539])"
      ]
     },
     "execution_count": 4,
     "metadata": {},
     "output_type": "execute_result"
    }
   ],
   "source": [
    "sol"
   ]
  },
  {
   "cell_type": "code",
   "execution_count": 5,
   "metadata": {},
   "outputs": [
    {
     "data": {
      "text/plain": [
       "[array([0.5, 0.5]),\n",
       " array([-1.64872127,  7.14872127]),\n",
       " array([-2.90595376e-05,  4.11419047e+00]),\n",
       " array([-0.01633821,  2.66474807]),\n",
       " array([-0.06737882,  2.270186  ]),\n",
       " array([-0.09027058,  2.23464503]),\n",
       " array([-0.0893507 ,  2.23428231]),\n",
       " array([-0.08954771,  2.23427421]),\n",
       " array([-0.08951316,  2.23427559]),\n",
       " array([-0.08951922,  2.23427534]),\n",
       " array([-0.08951816,  2.23427539])]"
      ]
     },
     "execution_count": 5,
     "metadata": {},
     "output_type": "execute_result"
    }
   ],
   "source": [
    "x_t"
   ]
  },
  {
   "cell_type": "code",
   "execution_count": null,
   "metadata": {},
   "outputs": [],
   "source": []
  }
 ],
 "metadata": {
  "kernelspec": {
   "display_name": "base",
   "language": "python",
   "name": "python3"
  },
  "language_info": {
   "codemirror_mode": {
    "name": "ipython",
    "version": 3
   },
   "file_extension": ".py",
   "mimetype": "text/x-python",
   "name": "python",
   "nbconvert_exporter": "python",
   "pygments_lexer": "ipython3",
   "version": "3.9.16"
  }
 },
 "nbformat": 4,
 "nbformat_minor": 2
}
