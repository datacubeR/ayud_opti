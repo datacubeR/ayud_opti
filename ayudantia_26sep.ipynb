{
 "cells": [
  {
   "cell_type": "code",
   "execution_count": 1,
   "metadata": {},
   "outputs": [
    {
     "data": {
      "text/html": [
       "<div>\n",
       "<style scoped>\n",
       "    .dataframe tbody tr th:only-of-type {\n",
       "        vertical-align: middle;\n",
       "    }\n",
       "\n",
       "    .dataframe tbody tr th {\n",
       "        vertical-align: top;\n",
       "    }\n",
       "\n",
       "    .dataframe thead th {\n",
       "        text-align: right;\n",
       "    }\n",
       "</style>\n",
       "<table border=\"1\" class=\"dataframe\">\n",
       "  <thead>\n",
       "    <tr style=\"text-align: right;\">\n",
       "      <th></th>\n",
       "      <th>curvatura</th>\n",
       "      <th>diametro</th>\n",
       "      <th>resultado</th>\n",
       "    </tr>\n",
       "  </thead>\n",
       "  <tbody>\n",
       "    <tr>\n",
       "      <th>0</th>\n",
       "      <td>2.95</td>\n",
       "      <td>6.63</td>\n",
       "      <td>Pasa</td>\n",
       "    </tr>\n",
       "    <tr>\n",
       "      <th>1</th>\n",
       "      <td>2.53</td>\n",
       "      <td>7.79</td>\n",
       "      <td>Pasa</td>\n",
       "    </tr>\n",
       "    <tr>\n",
       "      <th>2</th>\n",
       "      <td>3.57</td>\n",
       "      <td>5.65</td>\n",
       "      <td>Pasa</td>\n",
       "    </tr>\n",
       "    <tr>\n",
       "      <th>3</th>\n",
       "      <td>3.16</td>\n",
       "      <td>5.47</td>\n",
       "      <td>Pasa</td>\n",
       "    </tr>\n",
       "    <tr>\n",
       "      <th>4</th>\n",
       "      <td>2.58</td>\n",
       "      <td>4.46</td>\n",
       "      <td>No Pasa</td>\n",
       "    </tr>\n",
       "    <tr>\n",
       "      <th>5</th>\n",
       "      <td>2.16</td>\n",
       "      <td>6.22</td>\n",
       "      <td>No Pasa</td>\n",
       "    </tr>\n",
       "    <tr>\n",
       "      <th>6</th>\n",
       "      <td>3.27</td>\n",
       "      <td>3.52</td>\n",
       "      <td>No Pasa</td>\n",
       "    </tr>\n",
       "  </tbody>\n",
       "</table>\n",
       "</div>"
      ],
      "text/plain": [
       "   curvatura  diametro resultado\n",
       "0       2.95      6.63      Pasa\n",
       "1       2.53      7.79      Pasa\n",
       "2       3.57      5.65      Pasa\n",
       "3       3.16      5.47      Pasa\n",
       "4       2.58      4.46   No Pasa\n",
       "5       2.16      6.22   No Pasa\n",
       "6       3.27      3.52   No Pasa"
      ]
     },
     "execution_count": 1,
     "metadata": {},
     "output_type": "execute_result"
    }
   ],
   "source": [
    "import numpy as np\n",
    "import pandas as pd\n",
    "from sklearn.discriminant_analysis import LinearDiscriminantAnalysis\n",
    "\n",
    "df = pd.DataFrame(\n",
    "    dict(\n",
    "        curvatura=[2.95, 2.53, 3.57, 3.16, 2.58, 2.16, 3.27],\n",
    "        diametro=[6.63, 7.79, 5.65, 5.47, 4.46, 6.22, 3.52],\n",
    "        resultado=[\"Pasa\", \"Pasa\", \"Pasa\", \"Pasa\", \"No Pasa\", \"No Pasa\", \"No Pasa\"],\n",
    "    )\n",
    ")\n",
    "df"
   ]
  },
  {
   "cell_type": "code",
   "execution_count": 2,
   "metadata": {},
   "outputs": [
    {
     "data": {
      "text/plain": [
       "array(['No Pasa'], dtype='<U7')"
      ]
     },
     "execution_count": 2,
     "metadata": {},
     "output_type": "execute_result"
    }
   ],
   "source": [
    "lda = LinearDiscriminantAnalysis()\n",
    "lda.fit(df[[\"curvatura\", \"diametro\"]], df[\"resultado\"])\n",
    "X = pd.DataFrame(dict(curvatura=[2], diametro=[5]))\n",
    "lda.predict(X)"
   ]
  },
  {
   "cell_type": "code",
   "execution_count": 3,
   "metadata": {},
   "outputs": [],
   "source": [
    "## LDA a mano...\n",
    "\n",
    "#  beta^T*X > beta^T*mu_c pertenece al grupo 1, sino al grupo 2"
   ]
  },
  {
   "cell_type": "code",
   "execution_count": 4,
   "metadata": {},
   "outputs": [
    {
     "data": {
      "text/plain": [
       "array([28.78611508, 11.99234021])"
      ]
     },
     "execution_count": 4,
     "metadata": {},
     "output_type": "execute_result"
    }
   ],
   "source": [
    "data_1 = df.query(\"resultado == 'Pasa'\")[[\"curvatura\", \"diametro\"]]\n",
    "data_2 = df.query(\"resultado == 'No Pasa'\")[[\"curvatura\", \"diametro\"]]\n",
    "\n",
    "mu_1 = data_1.mean().values\n",
    "mu_2 = data_2.mean().values\n",
    "n1 = len(data_1)\n",
    "n2 = len(data_2)\n",
    "s1 = data_1.cov().values\n",
    "s2 = data_2.cov().values\n",
    "\n",
    "\n",
    "S = ((n1 - 1) * s1 + (n2 - 1) * s2) / (n1 + n2 - 2)\n",
    "S  # Estimador Insesgado de la Matriz de Covarianza...\n",
    "inv_s = np.linalg.inv(S)\n",
    "\n",
    "beta = (mu_1 - mu_2).dot(inv_s)  # (mu1-mu2)/S\n",
    "beta"
   ]
  },
  {
   "cell_type": "code",
   "execution_count": 5,
   "metadata": {},
   "outputs": [
    {
     "data": {
      "text/plain": [
       "149.03168972824614"
      ]
     },
     "execution_count": 5,
     "metadata": {},
     "output_type": "execute_result"
    }
   ],
   "source": [
    "mu_c = (mu_1 + mu_2) / 2\n",
    "beta.dot(mu_c)  ## Regla de Decisión...\n",
    "\n",
    "# si beta*X es mayor que RD"
   ]
  },
  {
   "cell_type": "code",
   "execution_count": 6,
   "metadata": {},
   "outputs": [
    {
     "name": "stdout",
     "output_type": "stream",
     "text": [
      "No Pasa\n"
     ]
    }
   ],
   "source": [
    "decision = beta.dot(X.values.reshape(-1))\n",
    "if decision - beta.dot(mu_c) > 0:\n",
    "    print(\"Pasa\")\n",
    "else:\n",
    "    print(\"No Pasa\")"
   ]
  },
  {
   "cell_type": "code",
   "execution_count": 7,
   "metadata": {},
   "outputs": [
    {
     "data": {
      "text/plain": [
       "(array([[28.78611508, 11.99234021]]), array([-148.74400766]))"
      ]
     },
     "execution_count": 7,
     "metadata": {},
     "output_type": "execute_result"
    }
   ],
   "source": [
    "lda.coef_, lda.intercept_"
   ]
  },
  {
   "cell_type": "code",
   "execution_count": 8,
   "metadata": {},
   "outputs": [
    {
     "data": {
      "text/plain": [
       "-149.03168972824614"
      ]
     },
     "execution_count": 8,
     "metadata": {},
     "output_type": "execute_result"
    }
   ],
   "source": [
    "-beta.dot(mu_c)  ## Sería como el intercepto...."
   ]
  }
 ],
 "metadata": {
  "kernelspec": {
   "display_name": "base",
   "language": "python",
   "name": "python3"
  },
  "language_info": {
   "codemirror_mode": {
    "name": "ipython",
    "version": 3
   },
   "file_extension": ".py",
   "mimetype": "text/x-python",
   "name": "python",
   "nbconvert_exporter": "python",
   "pygments_lexer": "ipython3",
   "version": "3.9.16"
  },
  "orig_nbformat": 4
 },
 "nbformat": 4,
 "nbformat_minor": 2
}
