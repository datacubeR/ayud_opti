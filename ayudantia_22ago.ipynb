{
 "cells": [
  {
   "cell_type": "code",
   "execution_count": 1,
   "metadata": {},
   "outputs": [
    {
     "data": {
      "text/plain": [
       "[1, 4, 9, 16, 25]"
      ]
     },
     "execution_count": 1,
     "metadata": {},
     "output_type": "execute_result"
    }
   ],
   "source": [
    "import numpy as np\n",
    "\n",
    "a = [1,2,3,4,5]\n",
    "a_2 = []\n",
    "for item in a:\n",
    "    a_2.append(item**2)\n",
    "a_2\n",
    "    "
   ]
  },
  {
   "cell_type": "code",
   "execution_count": 2,
   "metadata": {},
   "outputs": [
    {
     "data": {
      "text/plain": [
       "array([3, 4, 5, 6, 7])"
      ]
     },
     "execution_count": 2,
     "metadata": {},
     "output_type": "execute_result"
    }
   ],
   "source": [
    "a = np.array([1,2,3,4,5])\n",
    "a + 2"
   ]
  },
  {
   "cell_type": "code",
   "execution_count": 3,
   "metadata": {},
   "outputs": [
    {
     "data": {
      "text/plain": [
       "array([ 1,  4,  9, 16, 25])"
      ]
     },
     "execution_count": 3,
     "metadata": {},
     "output_type": "execute_result"
    }
   ],
   "source": [
    "a**2 # Vectorización... "
   ]
  },
  {
   "cell_type": "code",
   "execution_count": 4,
   "metadata": {},
   "outputs": [
    {
     "data": {
      "text/plain": [
       "(6,)"
      ]
     },
     "execution_count": 4,
     "metadata": {},
     "output_type": "execute_result"
    }
   ],
   "source": [
    "a = np.array([1,2,3,4,5,6])\n",
    "b = np.array([7,8,9,10,11,12])\n",
    "\n",
    "a.shape \n",
    "# Unidimensional: Vector\n",
    "# Bidimensional: Matriz\n",
    "# Tridimensional o más: Tensor...\n",
    "\n",
    "\n"
   ]
  },
  {
   "cell_type": "code",
   "execution_count": 5,
   "metadata": {},
   "outputs": [
    {
     "ename": "ValueError",
     "evalue": "cannot reshape array of size 6 into shape (4,newaxis)",
     "output_type": "error",
     "traceback": [
      "\u001b[0;31m---------------------------------------------------------------------------\u001b[0m",
      "\u001b[0;31mValueError\u001b[0m                                Traceback (most recent call last)",
      "Cell \u001b[0;32mIn[5], line 3\u001b[0m\n\u001b[1;32m      1\u001b[0m a\u001b[39m.\u001b[39mreshape(\u001b[39m3\u001b[39m,\u001b[39m2\u001b[39m)\n\u001b[1;32m      2\u001b[0m b\u001b[39m.\u001b[39mreshape(\u001b[39m-\u001b[39m\u001b[39m1\u001b[39m,\u001b[39m3\u001b[39m)\n\u001b[0;32m----> 3\u001b[0m a\u001b[39m.\u001b[39;49mreshape(\u001b[39m4\u001b[39;49m,\u001b[39m-\u001b[39;49m\u001b[39m1\u001b[39;49m)\n",
      "\u001b[0;31mValueError\u001b[0m: cannot reshape array of size 6 into shape (4,newaxis)"
     ]
    }
   ],
   "source": [
    "a.reshape(3,2)\n",
    "b.reshape(-1,3)\n",
    "a.reshape(4,-1) # Asegurarme que al menos una de las dimensiones esté correcta... sino hay error"
   ]
  },
  {
   "cell_type": "code",
   "execution_count": 6,
   "metadata": {},
   "outputs": [
    {
     "data": {
      "text/plain": [
       "array([[0.23262006, 0.4004454 , 0.38539968],\n",
       "       [0.14409829, 0.59581282, 0.18364471]])"
      ]
     },
     "execution_count": 6,
     "metadata": {},
     "output_type": "execute_result"
    }
   ],
   "source": [
    "# Numpy tiene matrices especiales... Constructores rápidos...\n",
    "\n",
    "np.random.rand(2,3) # valores aleatorios"
   ]
  },
  {
   "cell_type": "code",
   "execution_count": 7,
   "metadata": {},
   "outputs": [
    {
     "data": {
      "text/plain": [
       "array([[8, 1],\n",
       "       [3, 5]])"
      ]
     },
     "execution_count": 7,
     "metadata": {},
     "output_type": "execute_result"
    }
   ],
   "source": [
    "np.random.randint(1,10, (2,2)) # entre 1 y 9... "
   ]
  },
  {
   "cell_type": "code",
   "execution_count": 8,
   "metadata": {},
   "outputs": [
    {
     "data": {
      "text/plain": [
       "array([[1., 0., 0., 0., 0., 0., 0., 0., 0., 0.],\n",
       "       [0., 1., 0., 0., 0., 0., 0., 0., 0., 0.],\n",
       "       [0., 0., 1., 0., 0., 0., 0., 0., 0., 0.],\n",
       "       [0., 0., 0., 1., 0., 0., 0., 0., 0., 0.],\n",
       "       [0., 0., 0., 0., 1., 0., 0., 0., 0., 0.],\n",
       "       [0., 0., 0., 0., 0., 1., 0., 0., 0., 0.],\n",
       "       [0., 0., 0., 0., 0., 0., 1., 0., 0., 0.],\n",
       "       [0., 0., 0., 0., 0., 0., 0., 1., 0., 0.],\n",
       "       [0., 0., 0., 0., 0., 0., 0., 0., 1., 0.],\n",
       "       [0., 0., 0., 0., 0., 0., 0., 0., 0., 1.]])"
      ]
     },
     "execution_count": 8,
     "metadata": {},
     "output_type": "execute_result"
    }
   ],
   "source": [
    "np.zeros((2,3)) # matrices de zeros...\n",
    "np.ones((3,2))\n",
    "np.empty((3,3)) # Es muy bajo en memoria... y los valores que aparecen son referenciales... \n",
    "np.eye(10) # Matriz Identidad"
   ]
  },
  {
   "cell_type": "code",
   "execution_count": 9,
   "metadata": {},
   "outputs": [
    {
     "name": "stdout",
     "output_type": "stream",
     "text": [
      "(3, 4)\n",
      "(3, 3)\n",
      "2\n",
      "2\n"
     ]
    }
   ],
   "source": [
    "# Indexacion... \n",
    "A = np.array(\n",
    "    [\n",
    "        [1,3,0,6],\n",
    "        [2,4,1,5],\n",
    "        [1,4,-2,9]\n",
    "    ]\n",
    ")\n",
    "\n",
    "B = np.array([\n",
    "    [1,3,-1],\n",
    "    [2,-1,1],\n",
    "    [1,-3,-2]\n",
    "])\n",
    "\n",
    "print(A.shape)\n",
    "print(B.shape)\n",
    "\n",
    "print(A.ndim)\n",
    "print(B.ndim)"
   ]
  },
  {
   "cell_type": "code",
   "execution_count": 10,
   "metadata": {},
   "outputs": [
    {
     "data": {
      "text/plain": [
       "(4,)"
      ]
     },
     "execution_count": 10,
     "metadata": {},
     "output_type": "execute_result"
    }
   ],
   "source": [
    "A[:,0].shape # Vectores (n,) son como genéricos..\n",
    "A[0,:].shape"
   ]
  },
  {
   "cell_type": "code",
   "execution_count": 11,
   "metadata": {},
   "outputs": [
    {
     "data": {
      "text/plain": [
       "(3, 1)"
      ]
     },
     "execution_count": 11,
     "metadata": {},
     "output_type": "execute_result"
    }
   ],
   "source": [
    "A[:,0].reshape(-1,1).shape"
   ]
  },
  {
   "cell_type": "code",
   "execution_count": 12,
   "metadata": {},
   "outputs": [
    {
     "data": {
      "text/plain": [
       "(1, 3)"
      ]
     },
     "execution_count": 12,
     "metadata": {},
     "output_type": "execute_result"
    }
   ],
   "source": [
    "\n",
    "A[:,0].reshape(1,-1).shape"
   ]
  },
  {
   "cell_type": "code",
   "execution_count": 13,
   "metadata": {},
   "outputs": [
    {
     "data": {
      "text/plain": [
       "-2"
      ]
     },
     "execution_count": 13,
     "metadata": {},
     "output_type": "execute_result"
    }
   ],
   "source": [
    "B[2,2]"
   ]
  },
  {
   "cell_type": "code",
   "execution_count": 14,
   "metadata": {},
   "outputs": [
    {
     "data": {
      "text/plain": [
       "array([[-1],\n",
       "       [ 1]])"
      ]
     },
     "execution_count": 14,
     "metadata": {},
     "output_type": "execute_result"
    }
   ],
   "source": [
    "B[:2,2:]"
   ]
  },
  {
   "cell_type": "code",
   "execution_count": 15,
   "metadata": {},
   "outputs": [
    {
     "data": {
      "text/plain": [
       "array([ 8, 10, 12, 14, 16, 18])"
      ]
     },
     "execution_count": 15,
     "metadata": {},
     "output_type": "execute_result"
    }
   ],
   "source": [
    "# Operaciones... Suma, Multiplicación por Escalar, Multiplicación Matricial: (Producto Punto/Interno, Producto Externo... )\n",
    "a + b"
   ]
  },
  {
   "cell_type": "code",
   "execution_count": 16,
   "metadata": {},
   "outputs": [
    {
     "data": {
      "text/plain": [
       "array([[ 2,  6,  0, 12],\n",
       "       [ 4,  8,  2, 10],\n",
       "       [ 2,  8, -4, 18]])"
      ]
     },
     "execution_count": 16,
     "metadata": {},
     "output_type": "execute_result"
    }
   ],
   "source": [
    "A + A"
   ]
  },
  {
   "cell_type": "code",
   "execution_count": 17,
   "metadata": {},
   "outputs": [
    {
     "data": {
      "text/plain": [
       "array([1, 2, 3, 4, 5, 6])"
      ]
     },
     "execution_count": 17,
     "metadata": {},
     "output_type": "execute_result"
    }
   ],
   "source": [
    "a"
   ]
  },
  {
   "cell_type": "code",
   "execution_count": 18,
   "metadata": {},
   "outputs": [
    {
     "data": {
      "text/plain": [
       "array([[ 7],\n",
       "       [ 8],\n",
       "       [ 9],\n",
       "       [10],\n",
       "       [11],\n",
       "       [12]])"
      ]
     },
     "execution_count": 18,
     "metadata": {},
     "output_type": "execute_result"
    }
   ],
   "source": [
    "b_ = b.reshape(-1,1)\n",
    "b_"
   ]
  },
  {
   "cell_type": "code",
   "execution_count": 19,
   "metadata": {},
   "outputs": [
    {
     "data": {
      "text/plain": [
       "array([[ 8,  9, 10, 11, 12, 13],\n",
       "       [ 9, 10, 11, 12, 13, 14],\n",
       "       [10, 11, 12, 13, 14, 15],\n",
       "       [11, 12, 13, 14, 15, 16],\n",
       "       [12, 13, 14, 15, 16, 17],\n",
       "       [13, 14, 15, 16, 17, 18]])"
      ]
     },
     "execution_count": 19,
     "metadata": {},
     "output_type": "execute_result"
    }
   ],
   "source": [
    "a + b_ # Esto es un error? Sí: Matemáticamente... No: Computacionalmente...\n",
    "# Broadcasting: Ilegal matemáticamente, pero ultra eficiente Computacionalmente"
   ]
  },
  {
   "cell_type": "code",
   "execution_count": 20,
   "metadata": {},
   "outputs": [
    {
     "data": {
      "text/plain": [
       "array([[ 1,  2,  3],\n",
       "       [11, 12, 13],\n",
       "       [21, 22, 23],\n",
       "       [31, 32, 33]])"
      ]
     },
     "execution_count": 20,
     "metadata": {},
     "output_type": "execute_result"
    }
   ],
   "source": [
    "a = np.array([\n",
    "    [0,0,0],\n",
    "    [10,10,10],\n",
    "    [20,20,20],\n",
    "    [30,30,30]\n",
    "])\n",
    "\n",
    "b = np.array([1,2,3])\n",
    "\n",
    "a + b\n"
   ]
  },
  {
   "cell_type": "code",
   "execution_count": 21,
   "metadata": {},
   "outputs": [
    {
     "data": {
      "text/plain": [
       "array([[ 1,  2,  3],\n",
       "       [11, 12, 13],\n",
       "       [21, 22, 23],\n",
       "       [31, 32, 33]])"
      ]
     },
     "execution_count": 21,
     "metadata": {},
     "output_type": "execute_result"
    }
   ],
   "source": [
    "a.shape, b.shape # vector genérico... \n",
    "\n",
    "# Broadcast:\n",
    "# Voy a linear los objetos, derecha a izquierda en términos de dimension...\n",
    "#4,3\n",
    "#-,3\n",
    "# Broadcast está permitido si es que las dimensiones son iguales, son 1 o no existen.... dimensión por dimensión...\n",
    "\n",
    "#4,3,2\n",
    "#-,2,1\n",
    "# No pueden hacer broadcast...\n",
    "\n",
    "a + np.repeat(b.reshape(1,-1), 4, axis = 0)"
   ]
  },
  {
   "cell_type": "code",
   "execution_count": 22,
   "metadata": {},
   "outputs": [
    {
     "ename": "ValueError",
     "evalue": "matmul: Input operand 1 has a mismatch in its core dimension 0, with gufunc signature (n?,k),(k,m?)->(n?,m?) (size 3 is different from 4)",
     "output_type": "error",
     "traceback": [
      "\u001b[0;31m---------------------------------------------------------------------------\u001b[0m",
      "\u001b[0;31mValueError\u001b[0m                                Traceback (most recent call last)",
      "Cell \u001b[0;32mIn[22], line 10\u001b[0m\n\u001b[1;32m      8\u001b[0m b\u001b[39m.\u001b[39mdot(b) \u001b[39m# Producto Punto... \u001b[39;00m\n\u001b[1;32m      9\u001b[0m B \u001b[39m@\u001b[39m A\n\u001b[0;32m---> 10\u001b[0m A \u001b[39m@\u001b[39;49m B\n",
      "\u001b[0;31mValueError\u001b[0m: matmul: Input operand 1 has a mismatch in its core dimension 0, with gufunc signature (n?,k),(k,m?)->(n?,m?) (size 3 is different from 4)"
     ]
    }
   ],
   "source": [
    "# Multiplicación...\n",
    "\n",
    "A.shape, B.shape\n",
    "\n",
    "# A.dot(B)\n",
    "B.dot(A) # Producto Matricial\n",
    "\n",
    "b.dot(b) # Producto Punto... \n",
    "B @ A\n",
    "A @ B"
   ]
  },
  {
   "cell_type": "markdown",
   "metadata": {},
   "source": [
    "# Ejercicio: Implementar el Producto Externo tal que:\n",
    "\n",
    "$$\\bar{x}\\otimes\\bar{y}=\\begin{bmatrix}\n",
    "x_1 y_1 & x_1 y_2 & \\cdots & x_1 y_m\\\\\n",
    "x_2 y_1 & x_2 y_2 & \\cdots & x_2 y_m\\\\\n",
    "\\vdots & \\vdots & \\vdots & \\vdots\\\\\n",
    "x_n y_1 & x_n y_2 & \\cdots & x_n y_m\\\\\n",
    "\\end{bmatrix}$$"
   ]
  },
  {
   "cell_type": "code",
   "execution_count": 23,
   "metadata": {},
   "outputs": [
    {
     "data": {
      "text/plain": [
       "array([[ 4.,  8., 12.],\n",
       "       [ 5., 10., 15.],\n",
       "       [ 6., 12., 18.]])"
      ]
     },
     "execution_count": 23,
     "metadata": {},
     "output_type": "execute_result"
    }
   ],
   "source": [
    "x = np.array([4,5,6])\n",
    "y = np.array([1,2,3])\n",
    "\n",
    "size_x = len(x) #x.shape[0]\n",
    "size_y = y.shape[0]\n",
    "\n",
    "resultado = np.empty((size_x, size_y))\n",
    "for idx_i, item_i in enumerate(x):\n",
    "    for idx_j, item_j in enumerate(y):\n",
    "        resultado[idx_i,idx_j] = item_i*item_j\n",
    "resultado"
   ]
  },
  {
   "cell_type": "code",
   "execution_count": 24,
   "metadata": {},
   "outputs": [
    {
     "data": {
      "text/plain": [
       "array([[ 4.,  8., 12.],\n",
       "       [ 5., 10., 15.],\n",
       "       [ 6., 12., 18.]])"
      ]
     },
     "execution_count": 24,
     "metadata": {},
     "output_type": "execute_result"
    }
   ],
   "source": [
    "x = np.array([4,5,6])\n",
    "y = np.array([1,2,3])\n",
    "\n",
    "size_x = len(x) #x.shape[0]\n",
    "size_y = y.shape[0]\n",
    "for idx_j, item_j in enumerate(y):\n",
    "    resultado[:,idx_j] = item_j * x\n",
    "\n",
    "resultado\n"
   ]
  },
  {
   "cell_type": "code",
   "execution_count": 25,
   "metadata": {},
   "outputs": [
    {
     "data": {
      "text/plain": [
       "array([[ 4,  8, 12],\n",
       "       [ 5, 10, 15],\n",
       "       [ 6, 12, 18]])"
      ]
     },
     "execution_count": 25,
     "metadata": {},
     "output_type": "execute_result"
    }
   ],
   "source": [
    "x.reshape(-1,1) # vector columna...\n",
    "y.reshape(1,-1) # Vector fila\n",
    "# 3,1\n",
    "# 1,3\n",
    "\n",
    "x.reshape(-1,1).dot(y.reshape(1,-1))\n",
    "np.outer(x,y) # Producto Externo..."
   ]
  }
 ],
 "metadata": {
  "kernelspec": {
   "display_name": "base",
   "language": "python",
   "name": "python3"
  },
  "language_info": {
   "codemirror_mode": {
    "name": "ipython",
    "version": 3
   },
   "file_extension": ".py",
   "mimetype": "text/x-python",
   "name": "python",
   "nbconvert_exporter": "python",
   "pygments_lexer": "ipython3",
   "version": "3.9.16"
  },
  "orig_nbformat": 4
 },
 "nbformat": 4,
 "nbformat_minor": 2
}
